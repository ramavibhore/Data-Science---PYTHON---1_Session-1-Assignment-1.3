{
 "cells": [
  {
   "cell_type": "code",
   "execution_count": 1,
   "metadata": {},
   "outputs": [
    {
     "name": "stdout",
     "output_type": "stream",
     "text": [
      "oemoR  teiluJ\n"
     ]
    }
   ],
   "source": [
    "#Write a Python program to accept the user's first and last name and then getting them\n",
    "#printed in the the reverse order with a space between first name and last name.\n",
    "\n",
    "first_name = input('Enter First Name: ')\n",
    "last_name = input('Enter Last Name: ')\n",
    "fn = first_name[::-1]\n",
    "ln = last_name[::-1]  \n",
    "print (fn,\"\",ln)"
   ]
  }
 ],
 "metadata": {
  "kernelspec": {
   "display_name": "Python 3",
   "language": "python",
   "name": "python3"
  },
  "language_info": {
   "codemirror_mode": {
    "name": "ipython",
    "version": 3
   },
   "file_extension": ".py",
   "mimetype": "text/x-python",
   "name": "python",
   "nbconvert_exporter": "python",
   "pygments_lexer": "ipython3",
   "version": "3.6.4"
  }
 },
 "nbformat": 4,
 "nbformat_minor": 2
}
